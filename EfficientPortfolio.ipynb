{
 "cells": [
  {
   "cell_type": "code",
   "execution_count": 17,
   "id": "ce9351d2",
   "metadata": {},
   "outputs": [],
   "source": [
    "import numpy as np\n",
    "import pandas as pd\n",
    "\n",
    "from scipy.linalg import cholesky\n",
    "def linear_solve_cholesky(A, b):\n",
    "    U = cholesky(A)\n",
    "    y = np.linalg.solve(np.transpose(U), b)\n",
    "    x = np.linalg.solve(U, y)\n",
    "    return x \n",
    "\n",
    "def minvar(covmatrix, returns, rf, e_returns):\n",
    "    n = len(returns)\n",
    "    ones = np.ones((n, 1))\n",
    "    miu_bar = returns - np.dot(rf, ones)\n",
    "    x = linear_solve_cholesky(covmatrix, miu_bar)\n",
    "    wmin = ((e_returns - rf)/np.dot(np.transpose(miu_bar), x))*x\n",
    "    wmin_cash = 1 - np.dot(np.transpose(ones), wmin)\n",
    "    sigma_min = np.sqrt(np.dot(np.dot(np.transpose(wmin), covmatrix), wmin))\n",
    "    return wmin, wmin_cash, sigma_min\n",
    "    "
   ]
  },
  {
   "cell_type": "code",
   "execution_count": 18,
   "id": "a351469d",
   "metadata": {},
   "outputs": [
    {
     "data": {
      "text/plain": [
       "array([[-0.19136369]])"
      ]
     },
     "execution_count": 18,
     "metadata": {},
     "output_type": "execute_result"
    }
   ],
   "source": [
    "#Chapter9 Problem6\n",
    "returns = [[0.06],\n",
    "          [0.09],\n",
    "          [0.12]]\n",
    "\n",
    "risk_free_rate = 0.03\n",
    "e_returns = 0.1\n",
    "covmatrix = [[0.0324, -0.0180, 0.0065], [-0.0180, 0.0400, -0.0120], [0.0065, -0.0120, 0.0576]]\n",
    "wmin, wmin_cash, sigma = minvar(covmatrix, returns, risk_free_rate, e_returns)\n",
    "wmin_cash"
   ]
  },
  {
   "cell_type": "code",
   "execution_count": 19,
   "id": "c28cd492",
   "metadata": {},
   "outputs": [
    {
     "data": {
      "text/plain": [
       "array([[0.10678676]])"
      ]
     },
     "execution_count": 19,
     "metadata": {},
     "output_type": "execute_result"
    }
   ],
   "source": [
    "sigma"
   ]
  },
  {
   "cell_type": "code",
   "execution_count": 21,
   "id": "0b89e8b1",
   "metadata": {},
   "outputs": [
    {
     "data": {
      "text/plain": [
       "array([[0.30865076],\n",
       "       [0.42415856],\n",
       "       [0.26719068]])"
      ]
     },
     "execution_count": 21,
     "metadata": {},
     "output_type": "execute_result"
    }
   ],
   "source": [
    "def minvar_fromtangency(covmatrix, returns, rf, e_returns):\n",
    "    n = len(returns)\n",
    "    ones = np.ones((n, 1))\n",
    "    miu_bar = returns - np.dot(rf, ones)\n",
    "    x = linear_solve_cholesky(covmatrix, miu_bar)\n",
    "    w_tangency = (1/np.dot(np.transpose(ones), x))*x\n",
    "    wmin_cash = 1 - (e_returns - rf)/np.dot(np.transpose(miu_bar), w_tangency)\n",
    "    wmin = (1 - wmin_cash)*w_tangency\n",
    "    sigma_min = np.sqrt(np.dot(np.dot(np.transpose(wmin), covmatrix), wmin))\n",
    "    return wmin, wmin_cash, sigma_min, w_tangency\n",
    "    \n",
    "wmin, wmin_cash, sigma, tangency = minvar_fromtangency(covmatrix, returns, risk_free_rate, e_returns)\n",
    "tangency"
   ]
  },
  {
   "cell_type": "code",
   "execution_count": 22,
   "id": "c96c300f",
   "metadata": {},
   "outputs": [
    {
     "data": {
      "text/plain": [
       "array([[-0.19136369]])"
      ]
     },
     "execution_count": 22,
     "metadata": {},
     "output_type": "execute_result"
    }
   ],
   "source": [
    "wmin_cash"
   ]
  },
  {
   "cell_type": "code",
   "execution_count": null,
   "id": "51e2d075",
   "metadata": {},
   "outputs": [],
   "source": []
  }
 ],
 "metadata": {
  "kernelspec": {
   "display_name": "Python 3",
   "language": "python",
   "name": "python3"
  },
  "language_info": {
   "codemirror_mode": {
    "name": "ipython",
    "version": 3
   },
   "file_extension": ".py",
   "mimetype": "text/x-python",
   "name": "python",
   "nbconvert_exporter": "python",
   "pygments_lexer": "ipython3",
   "version": "3.8.8"
  }
 },
 "nbformat": 4,
 "nbformat_minor": 5
}
