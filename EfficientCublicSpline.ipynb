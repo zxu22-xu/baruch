{
 "cells": [
  {
   "cell_type": "code",
   "execution_count": 1,
   "id": "10286618",
   "metadata": {},
   "outputs": [],
   "source": [
    "import numpy as np\n",
    "import pandas as pd\n",
    "\n",
    "def efficientCubic(x, v):\n",
    "    \"\"\"\n",
    "    This function returns M, w, a, b, c, d\n",
    "    where M and w are the matrix and vector in the linear system\n",
    "    and a, b, c, d are the final coefficients of the linear system\n",
    "    \n",
    "    Note: x and v are the interpolation nodes and interpolation values\n",
    "    \"\"\"\n",
    "    assert len(x) == len(v)\n",
    "    \n",
    "    #the total length\n",
    "    n = len(v)\n",
    "    \n",
    "    #initialize empty list\n",
    "    z = []\n",
    "    \n",
    "    M_ = np.zeros((n-1, n-1))\n",
    "    \n",
    "    for i in range(1, n-1):\n",
    "        z_ = 6 * (np.divide(v[i + 1] - v[i], x[i+1] - x[i]) \\\n",
    "                 -np.divide(v[i] - v[i - 1], x[i] - x[i - 1]))\n",
    "        z.append(z_)\n",
    "        \n",
    "        \n",
    "    #calculate M\n",
    "    for i in range(1, n-1):\n",
    "        M_[i, i] = 2*(x[i + 1] - x[i - 1])\n",
    "    for i in range(1, n-2):\n",
    "        M_[i, i+1] = x[i+1] - x[i]\n",
    "    for i in range(2, n-1):\n",
    "        M_[i, i-1] = x[i] - x[i - 1]\n",
    "        \n",
    "    #ensuring M is square\n",
    "    M = np.delete(M_, (0), axis = 0)\n",
    "    M = np.delete(M, (0), axis = 1)\n",
    "    \n",
    "    #calculating w\n",
    "    w = np.linalg.solve(M, z)\n",
    "    \n",
    "    #w0 and wn\n",
    "    w = np.insert(w, 0, 0)\n",
    "    w = np.append(w, 0)\n",
    "    \n",
    "    #a, b, c, d\n",
    "    a, b, c, d = [], [], [], []\n",
    "    \n",
    "    q, r = [], []\n",
    "    \n",
    "    #calculating c and d \n",
    "    for i in range(1, n):\n",
    "        c_ = np.divide(w[i - 1] * x[i] - w[i] * x[i - 1], 2*(x[i] - x[i - 1]))\n",
    "        d_ = np.divide(w[i] - w[i - 1], 6*(x[i] - x[i- 1]))\n",
    "        c.append(c_)\n",
    "        d.append(d_)\n",
    "        \n",
    "    #calculating q and r \n",
    "    for i in range(1, n):\n",
    "        q_ = v[i - 1] - c[i - 1] * (x[i - 1]**2) - (d[i - 1] * (x[i - 1] ** 3))\n",
    "        r_ = v[i] - c[i - 1] * (x[i]**2) - d[i - 1]*(x[i]**3)\n",
    "        q.append(q_)\n",
    "        r.append(r_)\n",
    "        \n",
    "    #calculating a and b\n",
    "    for i in range(1, n):\n",
    "        a_ = np.divide(q[i- 1]*x[i] - r[i - 1]*x[i- 1], x[i] - x[i - 1])\n",
    "        b_ = np.divide(r[i- 1] - q[i - 1], x[i] - x[i - 1])\n",
    "        a.append(a_)\n",
    "        b.append(b_)\n",
    "        \n",
    "    return M, z, w, a, b, c, d"
   ]
  },
  {
   "cell_type": "code",
   "execution_count": 5,
   "id": "986dc8c1",
   "metadata": {},
   "outputs": [
    {
     "data": {
      "text/plain": [
       "array([[1.        , 0.33333333, 0.        ],\n",
       "       [0.33333333, 1.66666667, 0.5       ],\n",
       "       [0.        , 0.5       , 2.33333333]])"
      ]
     },
     "execution_count": 5,
     "metadata": {},
     "output_type": "execute_result"
    }
   ],
   "source": [
    "#Example from Book\n",
    "nodes = [0, 2/12, 6/12, 1, 20/12]\n",
    "values = [0.0050, 0.0065, 0.0085, 0.0105, 0.0120]\n",
    "\n",
    "M, z, w, a, b, c, d = efficientCubic(nodes, values)\n",
    "M"
   ]
  },
  {
   "cell_type": "code",
   "execution_count": null,
   "id": "65485098",
   "metadata": {},
   "outputs": [],
   "source": []
  }
 ],
 "metadata": {
  "kernelspec": {
   "display_name": "Python 3",
   "language": "python",
   "name": "python3"
  },
  "language_info": {
   "codemirror_mode": {
    "name": "ipython",
    "version": 3
   },
   "file_extension": ".py",
   "mimetype": "text/x-python",
   "name": "python",
   "nbconvert_exporter": "python",
   "pygments_lexer": "ipython3",
   "version": "3.8.8"
  }
 },
 "nbformat": 4,
 "nbformat_minor": 5
}
